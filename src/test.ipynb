{
 "cells": [
  {
   "cell_type": "code",
   "execution_count": 1,
   "id": "cbc4d07b",
   "metadata": {},
   "outputs": [],
   "source": [
    "from online.Environment import BatteryScheduling\n",
    "from online.EnergyDataset import EnergyDataset\n",
    "from torchrl.envs.utils import check_env_specs\n",
    "from hydra import initialize, compose\n",
    "from torchrl.modules import MLP, EGreedyModule, QValueModule, Actor,OrnsteinUhlenbeckProcessModule\n",
    "import torch\n",
    "from torchrl.envs import (\n",
    "    CatTensors,\n",
    "    EnvBase,\n",
    "    Transform,\n",
    "    TransformedEnv,\n",
    "    UnsqueezeTransform,\n",
    "    Compose,\n",
    "    InitTracker\n",
    ")\n",
    "\n",
    "from tensordict.nn import TensorDictModule, TensorDictSequential\n",
    "\n",
    "from torchrl.objectives import DQNLoss, ValueEstimators, SoftUpdate, DDPGLoss\n",
    "from torchrl.collectors import SyncDataCollector\n",
    "from torchrl.data import LazyMemmapStorage, ReplayBuffer, RandomSampler"
   ]
  },
  {
   "cell_type": "code",
   "execution_count": 2,
   "id": "663b74a3",
   "metadata": {},
   "outputs": [],
   "source": [
    "ds = EnergyDataset('../data/1_processed/energy.csv', '../data/1_processed/price.csv', 48, 1, 'train')"
   ]
  },
  {
   "cell_type": "code",
   "execution_count": 3,
   "id": "75d826be",
   "metadata": {},
   "outputs": [
    {
     "data": {
      "text/plain": [
       "tensor([[1],\n",
       "        [2],\n",
       "        [3]])"
      ]
     },
     "execution_count": 3,
     "metadata": {},
     "output_type": "execute_result"
    }
   ],
   "source": [
    "torch.unsqueeze(torch.tensor([1, 2, 3]), -1)"
   ]
  },
  {
   "cell_type": "code",
   "execution_count": 4,
   "id": "1669ef1c",
   "metadata": {},
   "outputs": [],
   "source": [
    "from tensordict import TensorDict, TensorDictBase"
   ]
  },
  {
   "cell_type": "code",
   "execution_count": 5,
   "id": "9244947a",
   "metadata": {},
   "outputs": [
    {
     "data": {
      "text/plain": [
       "tensor(1)"
      ]
     },
     "execution_count": 5,
     "metadata": {},
     "output_type": "execute_result"
    }
   ],
   "source": [
    "test = TensorDict({\n",
    "    'bla': 0,\n",
    "})\n",
    "test['bla'] = 1\n",
    "test['bla']"
   ]
  },
  {
   "cell_type": "code",
   "execution_count": 6,
   "id": "8710c9e8",
   "metadata": {},
   "outputs": [
    {
     "data": {
      "text/plain": [
       "(tensor([1.]), [1])"
      ]
     },
     "execution_count": 6,
     "metadata": {},
     "output_type": "execute_result"
    }
   ],
   "source": [
    "torch.ones(1), [1]"
   ]
  },
  {
   "cell_type": "code",
   "execution_count": 7,
   "id": "d91fec9b",
   "metadata": {},
   "outputs": [],
   "source": [
    "def makeEnv(cfg, seed, ds):\n",
    "    env = BatteryScheduling(cfg, 42, ds)\n",
    "    env_transformed = TransformedEnv(env, \n",
    "                                     Compose(InitTracker(),\n",
    "                                             UnsqueezeTransform(dim=-1, \n",
    "                                                                in_keys=['soe', 'prosumption', 'price', 'cost'],\n",
    "                                                                in_keys_inv=['soe', 'prosumption', 'price', 'cost'],),\n",
    "                                            CatTensors(dim=-1,\n",
    "                                                        in_keys=['soe', 'prosumption', 'price', 'price_forecast', 'cost'],\n",
    "                                                        out_key='observation',\n",
    "                                                        del_keys=False)\n",
    "                                             )\n",
    "                                    )\n",
    "    return env_transformed"
   ]
  },
  {
   "cell_type": "code",
   "execution_count": 13,
   "id": "510d4186",
   "metadata": {},
   "outputs": [
    {
     "name": "stdout",
     "output_type": "stream",
     "text": [
      "tensor([0.1123])\n",
      "tensor([-0.5595,  0.3062,  0.2998,  0.2998,  0.2805,  0.2805,  0.2770,  0.2770,\n",
      "         0.2836,  0.2836,  0.2867,  0.2867,  0.3532,  0.3532,  0.4202,  0.4202,\n",
      "         0.4154,  0.4154,  0.3690,  0.3690,  0.3422,  0.3422,  0.3199,  0.3199,\n",
      "         0.3004,  0.3004,  0.2877,  0.2877,  0.2943,  0.2943,  0.2999,  0.2999,\n",
      "         0.3004,  0.3004,  0.3494,  0.3494,  0.3728,  0.3728,  0.4258,  0.4258,\n",
      "         0.4242,  0.4242,  0.3968,  0.3968,  0.3698,  0.3698,  0.2839,  0.2839,\n",
      "         0.2874,  0.2874,  1.7150,  0.1123])\n"
     ]
    }
   ],
   "source": [
    "with initialize(version_base=None, config_path=\"conf/\"):\n",
    "    cfg = compose(config_name='config.yaml')\n",
    "    env_transformed = makeEnv(cfg, 42, ds)\n",
    "    # check_env_specs(env_transformed)\n",
    "\n",
    "\n",
    "    policy_net = MLP(\n",
    "        in_features=env_transformed.observation_spec['observation'].shape[-1],\n",
    "        out_features=env_transformed.action_spec.shape.numel(),\n",
    "        depth=2,\n",
    "        num_cells=[400,300],\n",
    "        activation_class=torch.nn.Tanh,\n",
    "    )\n",
    "\n",
    "    policy_module = TensorDictModule(\n",
    "        module=policy_net,\n",
    "        in_keys=['observation'],\n",
    "        out_keys=['action']\n",
    "    )\n",
    "\n",
    "    policy = Actor(\n",
    "        module=policy_module,\n",
    "        spec=env_transformed.full_action_spec['action'],\n",
    "        in_keys=['observation'],\n",
    "        out_keys=['action'],\n",
    "    )\n",
    "\n",
    "\n",
    "    exploration_policy = TensorDictSequential(\n",
    "        policy,\n",
    "        OrnsteinUhlenbeckProcessModule(\n",
    "            spec=policy.spec,\n",
    "        )\n",
    "    )\n",
    "\n",
    "\n",
    "    critic_module = TensorDictModule(\n",
    "        module=MLP(\n",
    "            in_features=env_transformed.observation_spec['observation'].shape[-1] + env_transformed.full_action_spec['action'].shape.numel(),\n",
    "            out_features=1,\n",
    "            depth=2,\n",
    "            num_cells=[400,300],\n",
    "            activation_class=torch.nn.Tanh,\n",
    "        ),\n",
    "        in_keys=['observation', 'action'],\n",
    "        out_keys=['state_action_value']\n",
    "    )\n",
    "\n",
    "    collector = SyncDataCollector(create_env_fn=makeEnv(cfg, 42, ds),\n",
    "                                  policy=exploration_policy,\n",
    "                                  frames_per_batch=100,\n",
    "                                  total_frames=100,)\n",
    "    \n",
    "    replay_buffer = ReplayBuffer(\n",
    "        storage=LazyMemmapStorage(\n",
    "            max_size=1000000,  # We will store up to memory_size transitions\n",
    "        ),  # We will store up to memory_size multi-agent transitions\n",
    "        sampler=RandomSampler(),\n",
    "        batch_size=1,  # We will sample batches of this size\n",
    "    )\n",
    "    # print(collector)\n",
    "    for iteration, batch in enumerate(collector):\n",
    "        print(batch['action'][0])\n",
    "        print(batch['observation'][1])\n"
   ]
  }
 ],
 "metadata": {
  "kernelspec": {
   "display_name": "decision-transformer",
   "language": "python",
   "name": "python3"
  },
  "language_info": {
   "codemirror_mode": {
    "name": "ipython",
    "version": 3
   },
   "file_extension": ".py",
   "mimetype": "text/x-python",
   "name": "python",
   "nbconvert_exporter": "python",
   "pygments_lexer": "ipython3",
   "version": "3.13.2"
  }
 },
 "nbformat": 4,
 "nbformat_minor": 5
}

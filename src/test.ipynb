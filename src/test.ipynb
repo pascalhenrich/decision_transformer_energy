{
 "cells": [
  {
   "cell_type": "code",
   "execution_count": null,
   "id": "cbc4d07b",
   "metadata": {},
   "outputs": [],
   "source": [
    "from online.Environment import BatteryScheduling\n",
    "from online.EnergyDataset import EnergyDataset\n",
    "from torchrl.envs.utils import check_env_specs"
   ]
  },
  {
   "cell_type": "code",
   "execution_count": 2,
   "id": "663b74a3",
   "metadata": {},
   "outputs": [],
   "source": [
    "ds = EnergyDataset('../data/1_processed/energy.csv', '../data/1_processed/price.csv', 48, 1, 'train')"
   ]
  },
  {
   "cell_type": "code",
   "execution_count": 3,
   "id": "510d4186",
   "metadata": {},
   "outputs": [
    {
     "name": "stderr",
     "output_type": "stream",
     "text": [
      "2025-04-22 17:58:20,453 [torchrl][INFO] check_env_specs succeeded!\n"
     ]
    },
    {
     "data": {
      "text/plain": [
       "TensorDict(\n",
       "    fields={\n",
       "        action: Tensor(shape=torch.Size([17472]), device=cpu, dtype=torch.float32, is_shared=False),\n",
       "        cost: Tensor(shape=torch.Size([17472]), device=cpu, dtype=torch.float32, is_shared=False),\n",
       "        done: Tensor(shape=torch.Size([17472, 1]), device=cpu, dtype=torch.bool, is_shared=False),\n",
       "        next: TensorDict(\n",
       "            fields={\n",
       "                cost: Tensor(shape=torch.Size([17472]), device=cpu, dtype=torch.float32, is_shared=False),\n",
       "                done: Tensor(shape=torch.Size([17472, 1]), device=cpu, dtype=torch.bool, is_shared=False),\n",
       "                params: TensorDict(\n",
       "                    fields={\n",
       "                        battery_capacity: Tensor(shape=torch.Size([17472]), device=cpu, dtype=torch.float64, is_shared=False),\n",
       "                        max_power: Tensor(shape=torch.Size([17472]), device=cpu, dtype=torch.float64, is_shared=False),\n",
       "                        max_steps: Tensor(shape=torch.Size([17472]), device=cpu, dtype=torch.int64, is_shared=False)},\n",
       "                    batch_size=torch.Size([17472]),\n",
       "                    device=None,\n",
       "                    is_shared=False),\n",
       "                price: Tensor(shape=torch.Size([17472]), device=cpu, dtype=torch.float32, is_shared=False),\n",
       "                price_forecast: Tensor(shape=torch.Size([17472, 48]), device=cpu, dtype=torch.float32, is_shared=False),\n",
       "                prosumption: Tensor(shape=torch.Size([17472]), device=cpu, dtype=torch.float32, is_shared=False),\n",
       "                reward: Tensor(shape=torch.Size([17472, 1]), device=cpu, dtype=torch.float32, is_shared=False),\n",
       "                soe: Tensor(shape=torch.Size([17472]), device=cpu, dtype=torch.float32, is_shared=False),\n",
       "                step: Tensor(shape=torch.Size([17472]), device=cpu, dtype=torch.int64, is_shared=False),\n",
       "                terminated: Tensor(shape=torch.Size([17472, 1]), device=cpu, dtype=torch.bool, is_shared=False)},\n",
       "            batch_size=torch.Size([17472]),\n",
       "            device=None,\n",
       "            is_shared=False),\n",
       "        params: TensorDict(\n",
       "            fields={\n",
       "                battery_capacity: Tensor(shape=torch.Size([17472]), device=cpu, dtype=torch.float64, is_shared=False),\n",
       "                max_power: Tensor(shape=torch.Size([17472]), device=cpu, dtype=torch.float64, is_shared=False),\n",
       "                max_steps: Tensor(shape=torch.Size([17472]), device=cpu, dtype=torch.int64, is_shared=False)},\n",
       "            batch_size=torch.Size([17472]),\n",
       "            device=None,\n",
       "            is_shared=False),\n",
       "        price: Tensor(shape=torch.Size([17472]), device=cpu, dtype=torch.float32, is_shared=False),\n",
       "        price_forecast: Tensor(shape=torch.Size([17472, 48]), device=cpu, dtype=torch.float32, is_shared=False),\n",
       "        prosumption: Tensor(shape=torch.Size([17472]), device=cpu, dtype=torch.float32, is_shared=False),\n",
       "        soe: Tensor(shape=torch.Size([17472]), device=cpu, dtype=torch.float32, is_shared=False),\n",
       "        step: Tensor(shape=torch.Size([17472]), device=cpu, dtype=torch.int64, is_shared=False),\n",
       "        terminated: Tensor(shape=torch.Size([17472, 1]), device=cpu, dtype=torch.bool, is_shared=False)},\n",
       "    batch_size=torch.Size([17472]),\n",
       "    device=None,\n",
       "    is_shared=False)"
      ]
     },
     "execution_count": 3,
     "metadata": {},
     "output_type": "execute_result"
    }
   ],
   "source": [
    "from hydra import initialize, compose\n",
    "\n",
    "with initialize(version_base=None, config_path=\"conf/\"):\n",
    "    cfg = compose(config_name='config.yaml')\n",
    "    env = BatteryScheduling(cfg, 42, ds)\n",
    "    check_env_specs(env)\n",
    "    env.reset()\n",
    "    result = env.rollout(365*48)\n",
    "\n",
    "result"
   ]
  }
 ],
 "metadata": {
  "kernelspec": {
   "display_name": "decision-transformer",
   "language": "python",
   "name": "python3"
  },
  "language_info": {
   "codemirror_mode": {
    "name": "ipython",
    "version": 3
   },
   "file_extension": ".py",
   "mimetype": "text/x-python",
   "name": "python",
   "nbconvert_exporter": "python",
   "pygments_lexer": "ipython3",
   "version": "3.13.2"
  }
 },
 "nbformat": 4,
 "nbformat_minor": 5
}

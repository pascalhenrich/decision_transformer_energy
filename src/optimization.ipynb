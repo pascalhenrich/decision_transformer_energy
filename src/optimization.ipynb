{
 "cells": [
  {
   "cell_type": "code",
   "execution_count": 1,
   "id": "3b7addc6",
   "metadata": {},
   "outputs": [],
   "source": [
    "from torch.utils.data import DataLoader\n",
    "import gurobipy as gp\n",
    "import numpy as np\n",
    "import pandas as pd\n",
    "import torch\n",
    "from tensordict import TensorDict\n",
    "import matplotlib.pyplot as plt\n",
    "\n",
    "\n",
    "from online.EnergyDataset import EnergyDataset"
   ]
  },
  {
   "cell_type": "code",
   "execution_count": 2,
   "id": "e513d6f9",
   "metadata": {},
   "outputs": [],
   "source": [
    "ds = EnergyDataset('../data/1_processed/energy.csv','../data/1_processed/price.csv', 48, 1, 'train')\n",
    "battery_capacity =  ds.getBatteryCapacity().item()\n",
    "battery_power = battery_capacity / 4"
   ]
  },
  {
   "cell_type": "code",
   "execution_count": 3,
   "id": "5928e336",
   "metadata": {},
   "outputs": [
    {
     "name": "stdout",
     "output_type": "stream",
     "text": [
      "Set parameter Username\n",
      "Set parameter LicenseID to value 2650516\n",
      "Academic license - for non-commercial use only - expires 2026-04-11\n"
     ]
    }
   ],
   "source": [
    "old_soe = 0.0\n",
    "timeslot = range(0, 48, 1)\n",
    "model = gp.Model(\"battery_optimization\")\n",
    "model.setParam('OutputFlag', 0)"
   ]
  },
  {
   "cell_type": "code",
   "execution_count": 16,
   "id": "ae57ef86",
   "metadata": {},
   "outputs": [],
   "source": [
    "td_array = []\n",
    "for i in range(47,17424,48):\n",
    "    prosumption, price, time_feature = ds[i]\n",
    "    prosumption_array = prosumption.numpy().flatten()[1:49]\n",
    "    price_array = price.numpy().flatten()[1:49]\n",
    "\n",
    "    price_forecast = torch.zeros(49,48)\n",
    "    price_forecast[0] = price[1:49]\n",
    "    for j in range(1,49):\n",
    "        _, price, _ = ds[i+j]\n",
    "        price_forecast[j] = price[1:49]\n",
    "\n",
    "    # Create TensorDict\n",
    "    td_next = TensorDict({\n",
    "        'prosumption': prosumption[1:49].unsqueeze(-1),\n",
    "        'price': price[1:49].unsqueeze(-1),\n",
    "        'time_feature': time_feature[1:49],\n",
    "        'price_forecast': price_forecast[0:48],\n",
    "    }, batch_size=[48])\n",
    "\n",
    "    td = TensorDict({\n",
    "        'prosumption': prosumption[0:48].unsqueeze(-1),\n",
    "        'price': price[0:48].unsqueeze(-1),\n",
    "        'time_feature': time_feature[0:48],\n",
    "        'price_forecast': price_forecast[0:48],\n",
    "        'next': td_next,\n",
    "    }, batch_size=[48])\n",
    "\n",
    "    # Gurobi model\n",
    "    cost = []\n",
    "\n",
    "    solution_actions = []\n",
    "    solution_soe = []\n",
    "\n",
    "    action = model.addVars(timeslot, lb=-battery_power, ub=battery_power, vtype=gp.GRB.CONTINUOUS, name=\"action\")\n",
    "    soe = model.addVars(range(0, 49, 1), vtype=gp.GRB.CONTINUOUS, name=\"soe\")\n",
    "    # Initial SOE constraint\n",
    "    model.addConstr(soe[0] == 0.0, \"Initial_SOE\")\n",
    "            \n",
    "    # Define SOE constraints over time\n",
    "    for t in timeslot:\n",
    "        model.addConstr(soe[t + 1] == soe[t] + action[t], f\"SOE_Update_{t}\")\n",
    "        model.addConstr(soe[t + 1] >= 0, f\"SOE_Lower_Bound_{t}\")\n",
    "        model.addConstr(soe[t + 1] <= battery_capacity, f\"SOE_Upper_Bound_{t}\")\n",
    "\n",
    "    # Define net load and objective function\n",
    "    cost = gp.quicksum(price_array[t] * (prosumption_array[t] + action[t]) for t in timeslot)\n",
    "    model.setObjective(cost, gp.GRB.MINIMIZE)\n",
    "\n",
    "    # Optimize model\n",
    "    model.optimize()\n",
    "    optimal_actions = [action[t].x for t in timeslot]\n",
    "    cost_array = [-price_array[t] * (prosumption_array[t] + optimal_actions[t]) for t in timeslot]\n",
    "\n",
    "    solution_actions.extend([action[t].x for t in timeslot])\n",
    "    solution_soe.extend([soe[t].x for t in range(0, 49, 1)])\n",
    "\n",
    "    td['action'] = torch.tensor(solution_actions).unsqueeze(-1)\n",
    "    td['soe'] = torch.tensor(solution_soe[0:48]).unsqueeze(-1)\n",
    "    td['next', 'soe'] = torch.tensor(solution_soe[1:49]).unsqueeze(-1)\n",
    "    td['next', 'reward'] = torch.tensor(cost_array).unsqueeze(-1)\n",
    "    td['observation'] = torch.cat((td['soe'], td['prosumption'], td['time_feature'], td['price'], td['price_forecast']), dim=-1)\n",
    "    td['next', 'observation'] = torch.cat((td['next', 'soe'], td['next', 'prosumption'], td['next','time_feature'], td['next', 'price'], td['next', 'price_forecast']), dim=-1)\n",
    "    td_array.append(td)"
   ]
  },
  {
   "cell_type": "code",
   "execution_count": 18,
   "id": "78f961b2",
   "metadata": {},
   "outputs": [],
   "source": [
    "torch.save(td_array, '../outputs/battery_optimization_solution_1.pt')"
   ]
  },
  {
   "cell_type": "code",
   "execution_count": 21,
   "id": "72734423",
   "metadata": {},
   "outputs": [
    {
     "data": {
      "text/plain": [
       "TensorDict(\n",
       "    fields={\n",
       "        action: Tensor(shape=torch.Size([48, 1]), device=cpu, dtype=torch.float32, is_shared=False),\n",
       "        next: TensorDict(\n",
       "            fields={\n",
       "                observation: Tensor(shape=torch.Size([48, 53]), device=cpu, dtype=torch.float64, is_shared=False),\n",
       "                price: Tensor(shape=torch.Size([48, 1]), device=cpu, dtype=torch.float64, is_shared=False),\n",
       "                price_forecast: Tensor(shape=torch.Size([48, 48]), device=cpu, dtype=torch.float32, is_shared=False),\n",
       "                prosumption: Tensor(shape=torch.Size([48, 1]), device=cpu, dtype=torch.float64, is_shared=False),\n",
       "                reward: Tensor(shape=torch.Size([48, 1]), device=cpu, dtype=torch.float64, is_shared=False),\n",
       "                soe: Tensor(shape=torch.Size([48, 1]), device=cpu, dtype=torch.float32, is_shared=False),\n",
       "                time_feature: Tensor(shape=torch.Size([48, 2]), device=cpu, dtype=torch.float64, is_shared=False)},\n",
       "            batch_size=torch.Size([48]),\n",
       "            device=None,\n",
       "            is_shared=False),\n",
       "        observation: Tensor(shape=torch.Size([48, 53]), device=cpu, dtype=torch.float64, is_shared=False),\n",
       "        price: Tensor(shape=torch.Size([48, 1]), device=cpu, dtype=torch.float64, is_shared=False),\n",
       "        price_forecast: Tensor(shape=torch.Size([48, 48]), device=cpu, dtype=torch.float32, is_shared=False),\n",
       "        prosumption: Tensor(shape=torch.Size([48, 1]), device=cpu, dtype=torch.float64, is_shared=False),\n",
       "        soe: Tensor(shape=torch.Size([48, 1]), device=cpu, dtype=torch.float32, is_shared=False),\n",
       "        time_feature: Tensor(shape=torch.Size([48, 2]), device=cpu, dtype=torch.float64, is_shared=False)},\n",
       "    batch_size=torch.Size([48]),\n",
       "    device=None,\n",
       "    is_shared=False)"
      ]
     },
     "execution_count": 21,
     "metadata": {},
     "output_type": "execute_result"
    }
   ],
   "source": [
    "torch.load('../outputs/battery_optimization_solution_1.pt', weights_only=False)[0]"
   ]
  }
 ],
 "metadata": {
  "kernelspec": {
   "display_name": "decision-transformer",
   "language": "python",
   "name": "python3"
  },
  "language_info": {
   "codemirror_mode": {
    "name": "ipython",
    "version": 3
   },
   "file_extension": ".py",
   "mimetype": "text/x-python",
   "name": "python",
   "nbconvert_exporter": "python",
   "pygments_lexer": "ipython3",
   "version": "3.13.2"
  }
 },
 "nbformat": 4,
 "nbformat_minor": 5
}

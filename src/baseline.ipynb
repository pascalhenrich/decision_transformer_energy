{
 "cells": [
  {
   "cell_type": "code",
   "execution_count": 1,
   "id": "efec8221",
   "metadata": {},
   "outputs": [],
   "source": [
    "from online.EnergyDataset import EnergyDataset\n",
    "from torch.utils.data import DataLoader\n",
    "import pandas as pd"
   ]
  },
  {
   "cell_type": "code",
   "execution_count": 2,
   "id": "0291da74",
   "metadata": {},
   "outputs": [],
   "source": [
    "result = {}\n",
    "\n",
    "for customer in [1]:\n",
    "    ds = EnergyDataset('../data/1_processed/energy.csv','../data/1_processed/price.csv', 48, customer, 'test')\n",
    "    dl = iter(DataLoader(dataset=ds, batch_size=1, shuffle=False, num_workers=0))\n",
    "    cost = []\n",
    "    for batch in dl:\n",
    "        prosumption, price, _ = batch\n",
    "        cost.append(price[0][0].item() * prosumption[0][0].item())\n",
    "    result[customer] = [cost]\n",
    "\n",
    "result_df = pd.DataFrame(result)\n",
    "result_df.to_csv(f\"../outputs/woBattery_cost.csv\", index=False)"
   ]
  },
  {
   "cell_type": "code",
   "execution_count": 3,
   "id": "0b03e5dd",
   "metadata": {},
   "outputs": [
    {
     "data": {
      "text/plain": [
       "0    [0.677178520288706, 0.6549812179840089, 0.5384...\n",
       "Name: 1, dtype: object"
      ]
     },
     "execution_count": 3,
     "metadata": {},
     "output_type": "execute_result"
    }
   ],
   "source": [
    "result_df[1]"
   ]
  },
  {
   "cell_type": "code",
   "execution_count": 14,
   "id": "44683189",
   "metadata": {},
   "outputs": [
    {
     "data": {
      "text/plain": [
       "0    3.731778\n",
       "dtype: float64"
      ]
     },
     "execution_count": 14,
     "metadata": {},
     "output_type": "execute_result"
    }
   ],
   "source": [
    "pd.DataFrame(cost)[1:49].sum()"
   ]
  }
 ],
 "metadata": {
  "kernelspec": {
   "display_name": "decision-transformer",
   "language": "python",
   "name": "python3"
  },
  "language_info": {
   "codemirror_mode": {
    "name": "ipython",
    "version": 3
   },
   "file_extension": ".py",
   "mimetype": "text/x-python",
   "name": "python",
   "nbconvert_exporter": "python",
   "pygments_lexer": "ipython3",
   "version": "3.13.2"
  }
 },
 "nbformat": 4,
 "nbformat_minor": 5
}
